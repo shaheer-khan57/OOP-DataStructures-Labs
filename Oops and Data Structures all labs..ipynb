{
 "cells": [
  {
   "cell_type": "markdown",
   "id": "eecf5a39",
   "metadata": {},
   "source": [
    "# >>>>>>>>>>>>>>>>>> Lab No 2 <<<<<<<<<<<<<<<<<<<"
   ]
  },
  {
   "cell_type": "markdown",
   "id": "17248a37",
   "metadata": {},
   "source": [
    "### 1. Make a list that contains the student name, the last three digits of the registration number as an integer, the CGPA as a float, and a list that contains GPA of all semesters."
   ]
  },
  {
   "cell_type": "code",
   "execution_count": 7,
   "id": "2e4532b8",
   "metadata": {},
   "outputs": [
    {
     "name": "stdout",
     "output_type": "stream",
     "text": [
      "['Shaheer khan', 457, 3.54, [3.92, 3.19]]\n"
     ]
    }
   ],
   "source": [
    "S = [\"Shaheer khan\" , 457 ,3.54 , [3.92,3.19]]\n",
    "print(S)"
   ]
  },
  {
   "cell_type": "markdown",
   "id": "1470045b",
   "metadata": {},
   "source": [
    "### 2.  Make a dictionary and print it ."
   ]
  },
  {
   "cell_type": "code",
   "execution_count": 8,
   "id": "78f14035",
   "metadata": {},
   "outputs": [
    {
     "name": "stdout",
     "output_type": "stream",
     "text": [
      "{'one': 'aik', 'three': 'teen', 'ten': 'das', 'fifteen': 'pandra'}\n"
     ]
    }
   ],
   "source": [
    "Fd = {'one': 'aik', 'three' : 'teen', 'ten' :'das','fifteen' :'pandra' }\n",
    "print (Fd)"
   ]
  },
  {
   "cell_type": "markdown",
   "id": "73c4c75b",
   "metadata": {},
   "source": [
    "###  3. Using key() function  print the list of keys "
   ]
  },
  {
   "cell_type": "code",
   "execution_count": 9,
   "id": "77f61e36",
   "metadata": {},
   "outputs": [
    {
     "name": "stdout",
     "output_type": "stream",
     "text": [
      "['one', 'three', 'ten', 'fifteen']\n"
     ]
    }
   ],
   "source": [
    "keys = list(Fd.keys())\n",
    "print(keys)"
   ]
  },
  {
   "cell_type": "markdown",
   "id": "5c7de3b9",
   "metadata": {},
   "source": [
    "# >>>>>>>>>>>>>>>>>> Lab No 3 <<<<<<<<<<<<<<<<<<<"
   ]
  },
  {
   "cell_type": "markdown",
   "id": "09af8fb5",
   "metadata": {},
   "source": [
    "### 1. Observe the output of the following if:            a = 5   ,  b = 10\n",
    "### f'Five plus ten is {a + b} and not {2 * (a + b)}"
   ]
  },
  {
   "cell_type": "code",
   "execution_count": 10,
   "id": "c6114f5b",
   "metadata": {},
   "outputs": [
    {
     "data": {
      "text/plain": [
       "'Five plus ten is 15 and not 30'"
      ]
     },
     "execution_count": 10,
     "metadata": {},
     "output_type": "execute_result"
    }
   ],
   "source": [
    "a = 5\n",
    "b = 10\n",
    "f'Five plus ten is {a + b} and not {2 * (a + b)}'"
   ]
  },
  {
   "cell_type": "markdown",
   "id": "023b92ec",
   "metadata": {},
   "source": [
    "### 2. Make a list of odd number using list comprehension."
   ]
  },
  {
   "cell_type": "code",
   "execution_count": 13,
   "id": "303fe627",
   "metadata": {},
   "outputs": [
    {
     "name": "stdout",
     "output_type": "stream",
     "text": [
      "[1, 3, 5, 7, 9, 11, 13, 15, 17, 19, 21, 23, 25, 27, 29]\n"
     ]
    }
   ],
   "source": [
    "odd_numbers = [x  for x in range(30) if x % 2 != 0]\n",
    "print(odd_numbers)"
   ]
  },
  {
   "cell_type": "markdown",
   "id": "35bac035",
   "metadata": {},
   "source": [
    "# >>>>>>>>>>>>>>>>>> Lab No 4 <<<<<<<<<<<<<<<<<<<"
   ]
  },
  {
   "cell_type": "markdown",
   "id": "0a5d1ed3",
   "metadata": {},
   "source": [
    "### Consider the point class below."
   ]
  },
  {
   "cell_type": "code",
   "execution_count": 24,
   "id": "3bca4a6b",
   "metadata": {},
   "outputs": [],
   "source": [
    "import math\n",
    "class Point:\n",
    "    def __init__(self, x, y):\n",
    "        self.x = x\n",
    "        self.y = y\n",
    "    def distance(self, p2):\n",
    "        return math.sqrt((self.x-p2.x)**2 + (self.y-p2.y)**2)"
   ]
  },
  {
   "cell_type": "markdown",
   "id": "f8cc1040",
   "metadata": {},
   "source": [
    "### a. Define point1 and pass two number. "
   ]
  },
  {
   "cell_type": "code",
   "execution_count": 25,
   "id": "9a218340",
   "metadata": {},
   "outputs": [],
   "source": [
    "point1 = Point(1, 2)"
   ]
  },
  {
   "cell_type": "markdown",
   "id": "ee2ec456",
   "metadata": {},
   "source": [
    "### b. Make another instance of the point class, say its name is p2."
   ]
  },
  {
   "cell_type": "code",
   "execution_count": 26,
   "id": "9f02e481",
   "metadata": {},
   "outputs": [],
   "source": [
    "p2 = Point(4,7)"
   ]
  },
  {
   "cell_type": "markdown",
   "id": "a7b38882",
   "metadata": {},
   "source": [
    "### c. Print p1 and p2, for this use print command and pass the point as input"
   ]
  },
  {
   "cell_type": "code",
   "execution_count": 27,
   "id": "f8d18cc3",
   "metadata": {},
   "outputs": [
    {
     "name": "stdout",
     "output_type": "stream",
     "text": [
      "<__main__.Point object at 0x000001B49992DD50>\n"
     ]
    }
   ],
   "source": [
    "print(point1)"
   ]
  },
  {
   "cell_type": "code",
   "execution_count": 28,
   "id": "88c57373",
   "metadata": {},
   "outputs": [
    {
     "name": "stdout",
     "output_type": "stream",
     "text": [
      "<__main__.Point object at 0x000001B4999297D0>\n"
     ]
    }
   ],
   "source": [
    "print(p2)"
   ]
  },
  {
   "cell_type": "markdown",
   "id": "7ceed337",
   "metadata": {},
   "source": [
    "### d. Print the coordinate by using object and dot operator."
   ]
  },
  {
   "cell_type": "code",
   "execution_count": 29,
   "id": "7d8bbaae",
   "metadata": {},
   "outputs": [
    {
     "name": "stdout",
     "output_type": "stream",
     "text": [
      "Coordinates of point1 are (1, 2)\n"
     ]
    }
   ],
   "source": [
    "print('Coordinates of point1 are',(point1.x,point1.y))"
   ]
  },
  {
   "cell_type": "code",
   "execution_count": 30,
   "id": "7942fc6f",
   "metadata": {},
   "outputs": [
    {
     "name": "stdout",
     "output_type": "stream",
     "text": [
      "Coordinates of p2 are (4, 7)\n"
     ]
    }
   ],
   "source": [
    "print('Coordinates of p2 are',(p2.x,p2.y))"
   ]
  },
  {
   "cell_type": "markdown",
   "id": "be07ca0c",
   "metadata": {},
   "source": [
    "### e. Add a new method to the point class that can print the points in effective way. Print both the point using that function"
   ]
  },
  {
   "cell_type": "code",
   "execution_count": 37,
   "id": "da142818",
   "metadata": {},
   "outputs": [
    {
     "name": "stdout",
     "output_type": "stream",
     "text": [
      "Coordinates  are x = 1 and y = 2\n"
     ]
    }
   ],
   "source": [
    "def print_effective(self):\n",
    "    print(f\"Coordinates  are x = {self.x} and y = {self.y}\")\n",
    "\n",
    "print_effective(point1)"
   ]
  },
  {
   "cell_type": "code",
   "execution_count": 38,
   "id": "0d3bf792",
   "metadata": {},
   "outputs": [
    {
     "name": "stdout",
     "output_type": "stream",
     "text": [
      "Coordinates  are x = 4 and y = 7\n"
     ]
    }
   ],
   "source": [
    "print_effective(p2)"
   ]
  },
  {
   "cell_type": "markdown",
   "id": "ff4c1de0",
   "metadata": {},
   "source": [
    "### f. Calculate the distance between these two points. "
   ]
  },
  {
   "cell_type": "code",
   "execution_count": 39,
   "id": "9e38a49f",
   "metadata": {},
   "outputs": [
    {
     "name": "stdout",
     "output_type": "stream",
     "text": [
      "Distance between point1 and p2 are  5.830951894845301\n"
     ]
    }
   ],
   "source": [
    "distance = point1.distance(p2)\n",
    "print(f\"Distance between point1 and p2 are  {distance}\")"
   ]
  },
  {
   "cell_type": "markdown",
   "id": "235a5d17",
   "metadata": {},
   "source": [
    "# >>>>>>>>>>>>>>>>>> Lab No 5 <<<<<<<<<<<<<<<<<<<"
   ]
  },
  {
   "cell_type": "markdown",
   "id": "13eab05b",
   "metadata": {},
   "source": [
    "### Consider the complex number class. "
   ]
  },
  {
   "cell_type": "code",
   "execution_count": 40,
   "id": "74dfa42b",
   "metadata": {},
   "outputs": [],
   "source": [
    "class Complex:\n",
    "    def __init__(self, realpart, imagpart):\n",
    "        self.r = realpart\n",
    "        self.i = imagpart"
   ]
  },
  {
   "cell_type": "markdown",
   "id": "b3f9a41e",
   "metadata": {},
   "source": [
    "### a. Define an object x = Complex"
   ]
  },
  {
   "cell_type": "code",
   "execution_count": 41,
   "id": "5dbe38a1",
   "metadata": {},
   "outputs": [],
   "source": [
    "x=Complex"
   ]
  },
  {
   "cell_type": "markdown",
   "id": "3b458053",
   "metadata": {},
   "source": [
    "### b. Define an object x = Complex(3.0)"
   ]
  },
  {
   "cell_type": "code",
   "execution_count": 42,
   "id": "34e0fc19",
   "metadata": {},
   "outputs": [
    {
     "ename": "TypeError",
     "evalue": "Complex.__init__() missing 1 required positional argument: 'imagpart'",
     "output_type": "error",
     "traceback": [
      "\u001b[1;31m---------------------------------------------------------------------------\u001b[0m",
      "\u001b[1;31mTypeError\u001b[0m                                 Traceback (most recent call last)",
      "Cell \u001b[1;32mIn[42], line 1\u001b[0m\n\u001b[1;32m----> 1\u001b[0m x \u001b[38;5;241m=\u001b[39m Complex(\u001b[38;5;241m3.0\u001b[39m)\n",
      "\u001b[1;31mTypeError\u001b[0m: Complex.__init__() missing 1 required positional argument: 'imagpart'"
     ]
    }
   ],
   "source": [
    "x = Complex(3.0)"
   ]
  },
  {
   "cell_type": "markdown",
   "id": "0d138d31",
   "metadata": {},
   "source": [
    "### c. Define an object x = Complex(3.0, -4.5)"
   ]
  },
  {
   "cell_type": "code",
   "execution_count": 43,
   "id": "5750173d",
   "metadata": {},
   "outputs": [],
   "source": [
    "x = Complex(3.0, -4.5)"
   ]
  },
  {
   "cell_type": "markdown",
   "id": "0d5d8f04",
   "metadata": {},
   "source": [
    "### d. Print (x.r, x.i)"
   ]
  },
  {
   "cell_type": "code",
   "execution_count": 44,
   "id": "a1f58fea",
   "metadata": {},
   "outputs": [
    {
     "name": "stdout",
     "output_type": "stream",
     "text": [
      "3.0  ,  -4.5\n"
     ]
    }
   ],
   "source": [
    "print(x.r,' , ', x.i)"
   ]
  },
  {
   "cell_type": "markdown",
   "id": "dbde9e04",
   "metadata": {},
   "source": [
    "### e. Define an appropriate print method that can effectively print the complex number. Use it to print x."
   ]
  },
  {
   "cell_type": "code",
   "execution_count": 45,
   "id": "db861966",
   "metadata": {},
   "outputs": [
    {
     "name": "stdout",
     "output_type": "stream",
     "text": [
      "real part: 3.0 , imagnary part :-4.5 \n"
     ]
    }
   ],
   "source": [
    "def printdetails(self):\n",
    "    print(f\"real part: {self.r} , imagnary part :{self.i} \")\n",
    "printdetails(x)"
   ]
  },
  {
   "cell_type": "markdown",
   "id": "0ffb73c7",
   "metadata": {},
   "source": [
    "# >>>>>>>>>>>>>>>>>> Lab No 6 <<<<<<<<<<<<<<<<<<<"
   ]
  },
  {
   "cell_type": "markdown",
   "id": "c2007d84",
   "metadata": {},
   "source": [
    "### 1. Consider the following code. "
   ]
  },
  {
   "cell_type": "code",
   "execution_count": 2,
   "id": "e150d0b4",
   "metadata": {},
   "outputs": [],
   "source": [
    "import math\n",
    "class Point:\n",
    "    'Represents a point in two-dimensional geometric coordinates'\n",
    "    def __init__(self, x=0, y=0):\n",
    "        '''Initialize the position of a new point. The x and ycoordinates can be specified. If they are not, thepoint defaults to the origin.'''\n",
    "        self.move(x, y)\n",
    "    def move(self, x, y):\n",
    "        '''Move the point to a new location in 2D space.'''\n",
    "        self.x = x\n",
    "        self.y = y\n",
    "    def reset(self):\n",
    "        '''Reset the point back to the geometric origin: 0, 0'''\n",
    "        self.move(0, 0)\n",
    "    def __repr__(self) -> str:\n",
    "        return f\"{type(self).__name__}(x={self.x}, y={self.y})\"\n",
    "    def __str__(self) -> str:\n",
    "        return f\"{type(self).__name__}(x={self.x}, y={self.y})\"\n",
    "    def calculate_distance(self, other_point):\n",
    "        \"\"\"Calculate the distance from this point to a second point passed as a parameter. This function uses the Pythagorean Theorem to calculate the distance between the two points. The distance is returned as a float.\"\"\"\n",
    "        return math.sqrt((self.x - other_point.x)**2 +(self.y -other_point.y)**2)"
   ]
  },
  {
   "cell_type": "markdown",
   "id": "c1cfb682",
   "metadata": {},
   "source": [
    "### a. Define an object point = Point(3, 9) "
   ]
  },
  {
   "cell_type": "code",
   "execution_count": 3,
   "id": "25a2abd3",
   "metadata": {},
   "outputs": [],
   "source": [
    "point = Point(3, 9)"
   ]
  },
  {
   "cell_type": "markdown",
   "id": "980a26d2",
   "metadata": {},
   "source": [
    "### Print its coordinates."
   ]
  },
  {
   "cell_type": "code",
   "execution_count": 4,
   "id": "42a0440d",
   "metadata": {},
   "outputs": [
    {
     "name": "stdout",
     "output_type": "stream",
     "text": [
      "3  ,  9\n"
     ]
    }
   ],
   "source": [
    "print(point.x,\" , \",point.y)"
   ]
  },
  {
   "cell_type": "markdown",
   "id": "571b4eb1",
   "metadata": {},
   "source": [
    "### b. Print the class docstring. "
   ]
  },
  {
   "cell_type": "code",
   "execution_count": 5,
   "id": "25f7effc",
   "metadata": {},
   "outputs": [
    {
     "data": {
      "text/plain": [
       "'Represents a point in two-dimensional geometric coordinates'"
      ]
     },
     "execution_count": 5,
     "metadata": {},
     "output_type": "execute_result"
    }
   ],
   "source": [
    "Point.__doc__"
   ]
  },
  {
   "cell_type": "markdown",
   "id": "4f576a0f",
   "metadata": {},
   "source": [
    "### c. Print different method docstring using object.method. __doc__"
   ]
  },
  {
   "cell_type": "code",
   "execution_count": 6,
   "id": "ed4dcbfa",
   "metadata": {},
   "outputs": [
    {
     "name": "stdout",
     "output_type": "stream",
     "text": [
      "Move the point to a new location in 2D space.\n"
     ]
    }
   ],
   "source": [
    "print(point.move.__doc__)"
   ]
  },
  {
   "cell_type": "code",
   "execution_count": 7,
   "id": "63375107",
   "metadata": {},
   "outputs": [
    {
     "name": "stdout",
     "output_type": "stream",
     "text": [
      "Reset the point back to the geometric origin: 0, 0\n"
     ]
    }
   ],
   "source": [
    "print(point.reset.__doc__)"
   ]
  },
  {
   "cell_type": "code",
   "execution_count": 8,
   "id": "4e9288bc",
   "metadata": {},
   "outputs": [
    {
     "name": "stdout",
     "output_type": "stream",
     "text": [
      "Calculate the distance from this point to a second point passed as a parameter. This function uses the Pythagorean Theorem to calculate the distance between the two points. The distance is returned as a float.\n"
     ]
    }
   ],
   "source": [
    "print(point.calculate_distance.__doc__)"
   ]
  },
  {
   "cell_type": "markdown",
   "id": "ab76470c",
   "metadata": {},
   "source": [
    "### d. Add repr and str methods."
   ]
  },
  {
   "cell_type": "code",
   "execution_count": 10,
   "id": "6d138320",
   "metadata": {},
   "outputs": [
    {
     "data": {
      "text/plain": [
       "Point(x=3, y=9)"
      ]
     },
     "execution_count": 10,
     "metadata": {},
     "output_type": "execute_result"
    }
   ],
   "source": [
    "point"
   ]
  },
  {
   "cell_type": "code",
   "execution_count": 11,
   "id": "ce1feb73",
   "metadata": {},
   "outputs": [
    {
     "name": "stdout",
     "output_type": "stream",
     "text": [
      "Point(x=3, y=9)\n"
     ]
    }
   ],
   "source": [
    "print(point)"
   ]
  },
  {
   "cell_type": "markdown",
   "id": "8e3161d8",
   "metadata": {},
   "source": [
    "### e. Define a second object."
   ]
  },
  {
   "cell_type": "code",
   "execution_count": 12,
   "id": "3b634420",
   "metadata": {},
   "outputs": [],
   "source": [
    "point1 = Point(7, 5)"
   ]
  },
  {
   "cell_type": "markdown",
   "id": "88d6c4ab",
   "metadata": {},
   "source": [
    "### Test the str and rpr methods."
   ]
  },
  {
   "cell_type": "code",
   "execution_count": 13,
   "id": "1c3c12c8",
   "metadata": {},
   "outputs": [
    {
     "data": {
      "text/plain": [
       "Point(x=7, y=5)"
      ]
     },
     "execution_count": 13,
     "metadata": {},
     "output_type": "execute_result"
    }
   ],
   "source": [
    "point1"
   ]
  },
  {
   "cell_type": "code",
   "execution_count": 14,
   "id": "8c40db05",
   "metadata": {},
   "outputs": [
    {
     "name": "stdout",
     "output_type": "stream",
     "text": [
      "Point(x=7, y=5)\n"
     ]
    }
   ],
   "source": [
    "print(point1)"
   ]
  },
  {
   "cell_type": "markdown",
   "id": "618ae76c",
   "metadata": {},
   "source": [
    "### f. Also print the different docstrings using __doc__."
   ]
  },
  {
   "cell_type": "code",
   "execution_count": 59,
   "id": "4d52fa58",
   "metadata": {},
   "outputs": [
    {
     "name": "stdout",
     "output_type": "stream",
     "text": [
      "Initialize the position of a new point. The x and ycoordinates can be specified. If they are not, thepoint defaults to the origin.\n"
     ]
    }
   ],
   "source": [
    "print(point.__init__.__doc__)"
   ]
  },
  {
   "cell_type": "code",
   "execution_count": 15,
   "id": "f8b8f74b",
   "metadata": {},
   "outputs": [
    {
     "name": "stdout",
     "output_type": "stream",
     "text": [
      "Represents a point in two-dimensional geometric coordinates\n"
     ]
    }
   ],
   "source": [
    "print(Point.__doc__)"
   ]
  },
  {
   "cell_type": "code",
   "execution_count": 16,
   "id": "78124c98",
   "metadata": {},
   "outputs": [
    {
     "name": "stdout",
     "output_type": "stream",
     "text": [
      "None\n"
     ]
    }
   ],
   "source": [
    "print(point.__str__.__doc__)"
   ]
  },
  {
   "cell_type": "code",
   "execution_count": 17,
   "id": "d81a1f73",
   "metadata": {},
   "outputs": [
    {
     "name": "stdout",
     "output_type": "stream",
     "text": [
      "None\n"
     ]
    }
   ],
   "source": [
    "print(point.__repr__.__doc__)"
   ]
  },
  {
   "cell_type": "markdown",
   "id": "bc1becc4",
   "metadata": {},
   "source": [
    "###  g. Use the help method to print the class details. "
   ]
  },
  {
   "cell_type": "code",
   "execution_count": 18,
   "id": "4fb03f74",
   "metadata": {},
   "outputs": [
    {
     "name": "stdout",
     "output_type": "stream",
     "text": [
      "Help on class Point in module __main__:\n",
      "\n",
      "class Point(builtins.object)\n",
      " |  Point(x=0, y=0)\n",
      " |  \n",
      " |  Represents a point in two-dimensional geometric coordinates\n",
      " |  \n",
      " |  Methods defined here:\n",
      " |  \n",
      " |  __init__(self, x=0, y=0)\n",
      " |      Initialize the position of a new point. The x and ycoordinates can be specified. If they are not, thepoint defaults to the origin.\n",
      " |  \n",
      " |  __repr__(self) -> str\n",
      " |      Return repr(self).\n",
      " |  \n",
      " |  __str__(self) -> str\n",
      " |      Return str(self).\n",
      " |  \n",
      " |  calculate_distance(self, other_point)\n",
      " |      Calculate the distance from this point to a second point passed as a parameter. This function uses the Pythagorean Theorem to calculate the distance between the two points. The distance is returned as a float.\n",
      " |  \n",
      " |  move(self, x, y)\n",
      " |      Move the point to a new location in 2D space.\n",
      " |  \n",
      " |  reset(self)\n",
      " |      Reset the point back to the geometric origin: 0, 0\n",
      " |  \n",
      " |  ----------------------------------------------------------------------\n",
      " |  Data descriptors defined here:\n",
      " |  \n",
      " |  __dict__\n",
      " |      dictionary for instance variables (if defined)\n",
      " |  \n",
      " |  __weakref__\n",
      " |      list of weak references to the object (if defined)\n",
      "\n"
     ]
    }
   ],
   "source": [
    "help(Point)"
   ]
  },
  {
   "cell_type": "markdown",
   "id": "f6b6132b",
   "metadata": {},
   "source": [
    "# >>>>>>>>>>>>>>>>>> Lab No 7 <<<<<<<<<<<<<<<<<<<"
   ]
  },
  {
   "cell_type": "markdown",
   "id": "790c0200",
   "metadata": {},
   "source": [
    "### 1. Make different objects of different classes and call different method and observe the output. "
   ]
  },
  {
   "cell_type": "code",
   "execution_count": 81,
   "id": "05566e61",
   "metadata": {},
   "outputs": [],
   "source": [
    "class Employee:\n",
    "    raise_amount=1.1\n",
    "    total_emp=0\n",
    "    def __init__(self,fname,lname,pay):\n",
    "        self.fname=fname\n",
    "        self.lname=lname\n",
    "        self.pay=pay\n",
    "        self.email=f\"{self.fname.lower()}.{self.lname.lower()}@uet.edu.pk\"\n",
    "        Employee.total_emp+=1\n",
    "    def raise_pay(self):\n",
    "        self.pay*=self.raise_amount\n",
    "    def __repr__(self):\n",
    "        return f'{self.fname}{self.lname}'\n"
   ]
  },
  {
   "cell_type": "code",
   "execution_count": 82,
   "id": "c399f84e",
   "metadata": {},
   "outputs": [],
   "source": [
    "class Instructor(Employee):\n",
    "    def __init__(self,fname,lname,pay,design):\n",
    "        super().__init__(fname,lname,pay)\n",
    "        self.design=design\n",
    "        self.courses=[]\n",
    "    def assignCourse(self,*Subj):\n",
    "        self.courses=list(set(self.courses+list(Subj)))"
   ]
  },
  {
   "cell_type": "code",
   "execution_count": 83,
   "id": "53d608d5",
   "metadata": {},
   "outputs": [],
   "source": [
    "class LabDirector(Instructor):\n",
    "    def __init__(self,fname,lname,pay,design,lab,*labEmp):\n",
    "        super().__init__(fname,lname,pay,design)\n",
    "        self.lab=lab\n",
    "        self.labEmp=(labEmp)\n",
    "    def assignCourse(self,*subj):\n",
    "        super().assignCourse(*subj)\n",
    "        for ins in self.labEmp:\n",
    "            ins.assignCourse(*subj)\n",
    "    def addlabEmployee(self,ins):\n",
    "         self.labEmp.append(ins)\n",
    "    def droplabEmployee(self,ins):\n",
    "        self.labEmp.remove(ins)"
   ]
  },
  {
   "cell_type": "code",
   "execution_count": 84,
   "id": "0535baf5",
   "metadata": {},
   "outputs": [],
   "source": [
    "class AdminStaff(Employee):#Inherit From Parent Class'''\n",
    "    raise_amount=1.5\n",
    "    allAdminStaff=[]\n",
    "    def __init__(self,fname,lname,pay,team=None):\n",
    "        super().__init__(fname,lname,pay)\n",
    "        self.team=team\n",
    "        self.task=[]\n",
    "        AdminStaff.allAdminStaff.append(self)\n",
    "    def assignTask(self,*Task):\n",
    "        self.task=list(set(self.task+list(Task)))\n"
   ]
  },
  {
   "cell_type": "code",
   "execution_count": 85,
   "id": "1a5338e4",
   "metadata": {},
   "outputs": [],
   "source": [
    "class AdminOfficer(AdminStaff):\n",
    "    def __init__(self,fname,lname,pay,team):\n",
    "        super().__init__(fname,lname,pay,team)\n",
    "    @property\n",
    "    def teamMem(self):\n",
    "        return list(filter(lambda s:s.team==self.team,AdminStaff.allAdminStaff))"
   ]
  },
  {
   "cell_type": "markdown",
   "id": "3c536bf0",
   "metadata": {},
   "source": [
    "### Object of Employee class"
   ]
  },
  {
   "cell_type": "code",
   "execution_count": 104,
   "id": "795615dd",
   "metadata": {},
   "outputs": [],
   "source": [
    "a=Employee(\"Adil\",\"Durrani\",260000)"
   ]
  },
  {
   "cell_type": "code",
   "execution_count": 105,
   "id": "9093e4e4",
   "metadata": {},
   "outputs": [
    {
     "name": "stdout",
     "output_type": "stream",
     "text": [
      "adil.durrani@uet.edu.pk\n"
     ]
    }
   ],
   "source": [
    "print(a.email)"
   ]
  },
  {
   "cell_type": "markdown",
   "id": "344d90e9",
   "metadata": {},
   "source": [
    "### repr method"
   ]
  },
  {
   "cell_type": "code",
   "execution_count": 106,
   "id": "d6c7f70d",
   "metadata": {},
   "outputs": [
    {
     "data": {
      "text/plain": [
       "AdilDurrani"
      ]
     },
     "execution_count": 106,
     "metadata": {},
     "output_type": "execute_result"
    }
   ],
   "source": [
    "a"
   ]
  },
  {
   "cell_type": "markdown",
   "id": "73db8a35",
   "metadata": {},
   "source": [
    "### raise_pay method"
   ]
  },
  {
   "cell_type": "code",
   "execution_count": 107,
   "id": "b21a1f21",
   "metadata": {},
   "outputs": [
    {
     "name": "stdout",
     "output_type": "stream",
     "text": [
      "286000.0\n"
     ]
    }
   ],
   "source": [
    "a.raise_pay()\n",
    "print(a.pay)"
   ]
  },
  {
   "cell_type": "markdown",
   "id": "ec672fbb",
   "metadata": {},
   "source": [
    "### Object of Instructor class"
   ]
  },
  {
   "cell_type": "code",
   "execution_count": 87,
   "id": "04f365b8",
   "metadata": {},
   "outputs": [],
   "source": [
    "b=Instructor(\"Abubakar\",\"Durrani\",260000,\"RLC circuit\")"
   ]
  },
  {
   "cell_type": "markdown",
   "id": "5e6a4a23",
   "metadata": {},
   "source": [
    "### repr method"
   ]
  },
  {
   "cell_type": "code",
   "execution_count": 88,
   "id": "c5ef79e2",
   "metadata": {},
   "outputs": [
    {
     "data": {
      "text/plain": [
       "AbubakarDurrani"
      ]
     },
     "execution_count": 88,
     "metadata": {},
     "output_type": "execute_result"
    }
   ],
   "source": [
    "b"
   ]
  },
  {
   "cell_type": "markdown",
   "id": "9353e197",
   "metadata": {},
   "source": [
    "### raise_pay method"
   ]
  },
  {
   "cell_type": "code",
   "execution_count": 110,
   "id": "3966a6d9",
   "metadata": {},
   "outputs": [
    {
     "name": "stdout",
     "output_type": "stream",
     "text": [
      "286000.0\n"
     ]
    }
   ],
   "source": [
    "b.raise_pay()\n",
    "print(b.pay)"
   ]
  },
  {
   "cell_type": "markdown",
   "id": "10173281",
   "metadata": {},
   "source": [
    "### Object of LabDirector class"
   ]
  },
  {
   "cell_type": "code",
   "execution_count": 111,
   "id": "32e0c986",
   "metadata": {},
   "outputs": [],
   "source": [
    "c=LabDirector(\"Shayan\",\"Khan\",260000,\"Flipflop\",\"DLD\")"
   ]
  },
  {
   "cell_type": "markdown",
   "id": "9ba57844",
   "metadata": {},
   "source": [
    "### repr method"
   ]
  },
  {
   "cell_type": "code",
   "execution_count": 112,
   "id": "9e5f2c11",
   "metadata": {},
   "outputs": [
    {
     "data": {
      "text/plain": [
       "ShayanKhan"
      ]
     },
     "execution_count": 112,
     "metadata": {},
     "output_type": "execute_result"
    }
   ],
   "source": [
    "c"
   ]
  },
  {
   "cell_type": "markdown",
   "id": "0c82871a",
   "metadata": {},
   "source": [
    "### raise_pay method"
   ]
  },
  {
   "cell_type": "code",
   "execution_count": 113,
   "id": "ea5cc386",
   "metadata": {},
   "outputs": [
    {
     "name": "stdout",
     "output_type": "stream",
     "text": [
      "286000.0\n"
     ]
    }
   ],
   "source": [
    "c.raise_pay()\n",
    "print(c.pay)"
   ]
  },
  {
   "cell_type": "code",
   "execution_count": 114,
   "id": "e41567af",
   "metadata": {},
   "outputs": [
    {
     "data": {
      "text/plain": [
       "3"
      ]
     },
     "execution_count": 114,
     "metadata": {},
     "output_type": "execute_result"
    }
   ],
   "source": [
    "c.total_emp"
   ]
  },
  {
   "cell_type": "markdown",
   "id": "4d1ee02d",
   "metadata": {},
   "source": [
    "# >>>>>>>>>>>>>>>>>> Lab No 8 <<<<<<<<<<<<<<<<<<<"
   ]
  },
  {
   "cell_type": "markdown",
   "id": "7be43cea",
   "metadata": {},
   "source": [
    "### 1. Define 3 objects of different classes in task 2 and run different methods on them."
   ]
  },
  {
   "cell_type": "code",
   "execution_count": 120,
   "id": "3fbadc41",
   "metadata": {},
   "outputs": [],
   "source": [
    "class Rectangle:\n",
    "    def __init__(self, length, width, **kwargs):\n",
    "        self.length = length\n",
    "        self.width = width\n",
    "        super().__init__(**kwargs)\n",
    "    def area(self):\n",
    "        return self.length * self.width\n",
    "    def perimeter(self):\n",
    "        return 2 * self.length + 2 * self.width\n",
    "class Square(Rectangle):\n",
    "    def __init__(self, length, **kwargs):\n",
    "        super().__init__(length=length, width=length, **kwargs)\n",
    "class Triangle:\n",
    "    def __init__(self, base, height, **kwargs):\n",
    "        self.base = base\n",
    "        self.height = height\n",
    "        super().__init__(**kwargs)\n",
    "    def tri_area(self):\n",
    "        return 0.5 * self.base * self.height\n",
    "class RightPyramid(Square, Triangle):\n",
    "    def __init__(self, base, slant_height, **kwargs):\n",
    "        self.base = base\n",
    "        self.slant_height = slant_height\n",
    "        kwargs[\"height\"] = slant_height\n",
    "        kwargs[\"length\"] = base\n",
    "        super().__init__(base=base, **kwargs)\n",
    "    def area(self):\n",
    "        base_area = super().area()\n",
    "        perimeter = super().perimeter()\n",
    "        return 0.5 * perimeter * self.slant_height + base_area\n",
    "    def area_2(self):\n",
    "        base_area = super().area()\n",
    "        triangle_area = super().tri_area()\n",
    "        return triangle_area * 4 + base_area\n",
    "class SurfaceAreaMixin:\n",
    "    def surface_area(self):\n",
    "        surface_area = 0\n",
    "        for surface in self.surfaces:\n",
    "            surface_area += surface.area(self)\n",
    "        return surface_area\n",
    "class Cube(Square, SurfaceAreaMixin):\n",
    "    def __init__(self, length):\n",
    "        super().__init__(length)\n",
    "        self.surfaces = [Square, Square, Square, Square, Square, Square]\n",
    "class RightPyramid(Square, Triangle, SurfaceAreaMixin):\n",
    "    def __init__(self, base, slant_height):\n",
    "        self.base = base\n",
    "        self.slant_height = slant_height\n",
    "        self.height = slant_height\n",
    "        self.length = base\n",
    "        self.width = base\n",
    "        self.surfaces = [Square, Triangle, Triangle, Triangle, Triangle]"
   ]
  },
  {
   "cell_type": "code",
   "execution_count": 121,
   "id": "7ce70133",
   "metadata": {},
   "outputs": [],
   "source": [
    "Obj1=Rectangle(1,3)"
   ]
  },
  {
   "cell_type": "code",
   "execution_count": 122,
   "id": "e0a6e8bb",
   "metadata": {},
   "outputs": [
    {
     "data": {
      "text/plain": [
       "3"
      ]
     },
     "execution_count": 122,
     "metadata": {},
     "output_type": "execute_result"
    }
   ],
   "source": [
    "Obj1.area()"
   ]
  },
  {
   "cell_type": "code",
   "execution_count": 124,
   "id": "75ffbe16",
   "metadata": {},
   "outputs": [
    {
     "data": {
      "text/plain": [
       "8"
      ]
     },
     "execution_count": 124,
     "metadata": {},
     "output_type": "execute_result"
    }
   ],
   "source": [
    "Obj1.perimeter()"
   ]
  },
  {
   "cell_type": "code",
   "execution_count": 126,
   "id": "008ee971",
   "metadata": {},
   "outputs": [],
   "source": [
    "Obj2=Square(5)"
   ]
  },
  {
   "cell_type": "code",
   "execution_count": 127,
   "id": "9d44af44",
   "metadata": {},
   "outputs": [
    {
     "data": {
      "text/plain": [
       "25"
      ]
     },
     "execution_count": 127,
     "metadata": {},
     "output_type": "execute_result"
    }
   ],
   "source": [
    "Obj2.area()"
   ]
  },
  {
   "cell_type": "code",
   "execution_count": 128,
   "id": "df2f0806",
   "metadata": {},
   "outputs": [
    {
     "data": {
      "text/plain": [
       "20"
      ]
     },
     "execution_count": 128,
     "metadata": {},
     "output_type": "execute_result"
    }
   ],
   "source": [
    "Obj2.perimeter()"
   ]
  },
  {
   "cell_type": "code",
   "execution_count": 129,
   "id": "2dd1bfbf",
   "metadata": {},
   "outputs": [],
   "source": [
    "Obj3=Triangle(7,9)"
   ]
  },
  {
   "cell_type": "code",
   "execution_count": 130,
   "id": "a37517ad",
   "metadata": {},
   "outputs": [
    {
     "data": {
      "text/plain": [
       "31.5"
      ]
     },
     "execution_count": 130,
     "metadata": {},
     "output_type": "execute_result"
    }
   ],
   "source": [
    "Obj3.tri_area()"
   ]
  },
  {
   "cell_type": "markdown",
   "id": "d585f2cf",
   "metadata": {},
   "source": [
    "# >>>>>>>>>>>>>>>>>> Lab No 9 <<<<<<<<<<<<<<<<<<<"
   ]
  },
  {
   "cell_type": "code",
   "execution_count": 141,
   "id": "c8030c9f",
   "metadata": {},
   "outputs": [],
   "source": [
    "class WordCountString(str):\n",
    "    def words(self, separator=None):\n",
    "        return len(self.split(separator))\n",
    "sample_text = WordCountString(\n",
    "\"\"\"Knowledge of Python can be an added advantage in \n",
    "terms of skills, as it enables \n",
    "electrical engineers to leverage its versatility \n",
    "for a wide range of tasks the \n",
    "scope of specialized software.\"\"\")"
   ]
  },
  {
   "cell_type": "code",
   "execution_count": 142,
   "id": "7351ddf8",
   "metadata": {},
   "outputs": [
    {
     "data": {
      "text/plain": [
       "32"
      ]
     },
     "execution_count": 142,
     "metadata": {},
     "output_type": "execute_result"
    }
   ],
   "source": [
    "sample_text.words()"
   ]
  },
  {
   "cell_type": "code",
   "execution_count": 143,
   "id": "e5c08081",
   "metadata": {},
   "outputs": [],
   "source": [
    "def __repr__(self):\n",
    "    return f\"({self.words})\""
   ]
  },
  {
   "cell_type": "code",
   "execution_count": 144,
   "id": "b0fae05d",
   "metadata": {},
   "outputs": [
    {
     "data": {
      "text/plain": [
       "'Knowledge of Python can be an added advantage in \\nterms of skills, as it enables \\nelectrical engineers to leverage its versatility \\nfor a wide range of tasks the \\nscope of specialized software.'"
      ]
     },
     "execution_count": 144,
     "metadata": {},
     "output_type": "execute_result"
    }
   ],
   "source": [
    "sample_text"
   ]
  },
  {
   "cell_type": "code",
   "execution_count": 145,
   "id": "98dcb940",
   "metadata": {},
   "outputs": [
    {
     "name": "stdout",
     "output_type": "stream",
     "text": [
      "Knowledge Of Python Can Be An Added Advantage In Terms Of Skills, As It Enables Electrical Engineers To Leverage Its Versatility For A Wide Range Of Tasks The Scope Of Specialized Software.\n"
     ]
    }
   ],
   "source": [
    "capitalized = ' '.join(word.capitalize() for word in sample_text.split())\n",
    "print(capitalized)"
   ]
  },
  {
   "cell_type": "markdown",
   "id": "87d03554",
   "metadata": {},
   "source": [
    "### Find the length"
   ]
  },
  {
   "cell_type": "code",
   "execution_count": 146,
   "id": "9296d85b",
   "metadata": {},
   "outputs": [],
   "source": [
    "d='aa ss'"
   ]
  },
  {
   "cell_type": "code",
   "execution_count": 147,
   "id": "56394334",
   "metadata": {},
   "outputs": [
    {
     "data": {
      "text/plain": [
       "5"
      ]
     },
     "execution_count": 147,
     "metadata": {},
     "output_type": "execute_result"
    }
   ],
   "source": [
    "len(d)"
   ]
  },
  {
   "cell_type": "markdown",
   "id": "5af722c2",
   "metadata": {},
   "source": [
    "### Count the words"
   ]
  },
  {
   "cell_type": "code",
   "execution_count": 153,
   "id": "74795785",
   "metadata": {},
   "outputs": [],
   "source": [
    "class count(str):\n",
    "    def letter(self,S):\n",
    "        c=0\n",
    "        for i in S:\n",
    "            if 'a' <= i <='z' or 'A'<= i <='Z':\n",
    "                c +=1\n",
    "        return c   "
   ]
  },
  {
   "cell_type": "code",
   "execution_count": 155,
   "id": "b84533c5",
   "metadata": {},
   "outputs": [
    {
     "data": {
      "text/plain": [
       "4"
      ]
     },
     "execution_count": 155,
     "metadata": {},
     "output_type": "execute_result"
    }
   ],
   "source": [
    "word=count()\n",
    "word.letter('aa SS')"
   ]
  },
  {
   "cell_type": "code",
   "execution_count": 156,
   "id": "6747b3b0",
   "metadata": {},
   "outputs": [
    {
     "data": {
      "text/plain": [
       "4"
      ]
     },
     "execution_count": 156,
     "metadata": {},
     "output_type": "execute_result"
    }
   ],
   "source": [
    "word=count()\n",
    "word.letter('aa S44S')"
   ]
  },
  {
   "cell_type": "code",
   "execution_count": 157,
   "id": "19b2e7a2",
   "metadata": {},
   "outputs": [],
   "source": [
    "class count(str):\n",
    "    def letter(self,S):\n",
    "        c=0\n",
    "        for i in S:\n",
    "            if 'a' <= i <='z':\n",
    "                c +=1\n",
    "            elif  'A'<= i <='Z':\n",
    "                 c +=1\n",
    "            elif '1' <= i <='9':\n",
    "                c +=1\n",
    "        return c   "
   ]
  },
  {
   "cell_type": "code",
   "execution_count": 159,
   "id": "85eb6f6b",
   "metadata": {},
   "outputs": [
    {
     "data": {
      "text/plain": [
       "12"
      ]
     },
     "execution_count": 159,
     "metadata": {},
     "output_type": "execute_result"
    }
   ],
   "source": [
    "word=count()\n",
    "word.letter('aa S567Shhhh2')"
   ]
  },
  {
   "cell_type": "markdown",
   "id": "0ed1b220",
   "metadata": {},
   "source": [
    "# >>>>>>>>>>>>>>>>>> Lab No 10 <<<<<<<<<<<<<<<<<<<"
   ]
  },
  {
   "cell_type": "markdown",
   "id": "ecfec5e6",
   "metadata": {},
   "source": [
    "### • Make add.py and save in the same folder. \n",
    "### • Make sub.py and save in the same folder. \n",
    "### • Make mul.py and save in the same folder. \n",
    "### • Make divide.py and save in the same folder. \n",
    "### a. Import and run different module (at least 3). "
   ]
  },
  {
   "cell_type": "markdown",
   "id": "9e43f642",
   "metadata": {},
   "source": [
    "### Adder Module"
   ]
  },
  {
   "cell_type": "code",
   "execution_count": 33,
   "id": "2a610297",
   "metadata": {},
   "outputs": [],
   "source": [
    "def add(x, y):\n",
    "    return x + y"
   ]
  },
  {
   "cell_type": "code",
   "execution_count": null,
   "id": "1401e855",
   "metadata": {},
   "outputs": [],
   "source": [
    "import adder\n",
    "value = adder.add(2, 2) \n",
    "print(value)"
   ]
  },
  {
   "cell_type": "markdown",
   "id": "86963dc2",
   "metadata": {},
   "source": [
    "### Subtraction Module"
   ]
  },
  {
   "cell_type": "code",
   "execution_count": null,
   "id": "7ceaf17f",
   "metadata": {},
   "outputs": [],
   "source": [
    "def subtract(x, y):\n",
    "    return x - y"
   ]
  },
  {
   "cell_type": "code",
   "execution_count": null,
   "id": "4102632b",
   "metadata": {},
   "outputs": [],
   "source": [
    "import sub\n",
    "value = adder.subtract(2, 2) \n",
    "print(value)"
   ]
  },
  {
   "cell_type": "markdown",
   "id": "2a59bbb5",
   "metadata": {},
   "source": [
    "### Multiply Module"
   ]
  },
  {
   "cell_type": "code",
   "execution_count": null,
   "id": "254624cb",
   "metadata": {},
   "outputs": [],
   "source": [
    "def multiply(x, y):\n",
    "    return x - y"
   ]
  },
  {
   "cell_type": "code",
   "execution_count": null,
   "id": "7bd36a25",
   "metadata": {},
   "outputs": [],
   "source": [
    "import mul\n",
    "value = adder.multiply(2, 2) \n",
    "print(value)"
   ]
  },
  {
   "cell_type": "markdown",
   "id": "f7f77fe3",
   "metadata": {},
   "source": [
    "### Division Module"
   ]
  },
  {
   "cell_type": "code",
   "execution_count": null,
   "id": "04ce7a59",
   "metadata": {},
   "outputs": [],
   "source": [
    "def Division(x, y):\n",
    "    return x / y"
   ]
  },
  {
   "cell_type": "code",
   "execution_count": null,
   "id": "c46b9326",
   "metadata": {},
   "outputs": [],
   "source": [
    "import divide\n",
    "value = divide.Division(2, 2) \n",
    "print(value)"
   ]
  },
  {
   "cell_type": "markdown",
   "id": "454ed774",
   "metadata": {},
   "source": [
    "# >>>>>>>>>>>>>>>>>> Lab No 11 <<<<<<<<<<<<<<<<<<<"
   ]
  },
  {
   "cell_type": "markdown",
   "id": "647697ea",
   "metadata": {},
   "source": [
    "#### Make a node base implementation for Stack and pass different data types and push and pop different items and display the top item"
   ]
  },
  {
   "cell_type": "code",
   "execution_count": 75,
   "id": "7cb2b618",
   "metadata": {},
   "outputs": [],
   "source": [
    "class Node:\n",
    "    def __init__(self,data):\n",
    "        self.data = data\n",
    "        self.next = None\n",
    "                \n",
    "class Nodestack:\n",
    "    def __init__(self):\n",
    "        self.top = None\n",
    "        \n",
    "    def is_empty(self):\n",
    "        return self.top is None\n",
    "    \n",
    "    def push(self,item):\n",
    "        new_node = Node(item)\n",
    "        new_node.next = self.top\n",
    "        self.top = new_node\n",
    "        \n",
    "    def pop(self):\n",
    "        if not self.is_empty():\n",
    "            popped_item = self.top.data\n",
    "            self.top = self.top.next\n",
    "            return popped_item\n",
    "        else:\n",
    "            print('stack is empty')\n",
    "    def peak(self):\n",
    "        if not self.is_empty():\n",
    "            return self.top.data\n",
    "        else:\n",
    "            print('stack is empty')           \n",
    "    def size(self):\n",
    "        current = self.top\n",
    "        count = 0\n",
    "        while current:\n",
    "            count +=1\n",
    "            current = current.next\n",
    "        return count"
   ]
  },
  {
   "cell_type": "code",
   "execution_count": 76,
   "id": "7647fe03",
   "metadata": {},
   "outputs": [],
   "source": [
    "stack = Nodestack()\n",
    "stack.push(1)\n",
    "stack.push(8)\n",
    "stack.push(3)\n",
    "stack.push(2)\n",
    "stack.push(5)"
   ]
  },
  {
   "cell_type": "code",
   "execution_count": 77,
   "id": "9e09a7e4",
   "metadata": {},
   "outputs": [
    {
     "name": "stdout",
     "output_type": "stream",
     "text": [
      "peak value is  5\n"
     ]
    }
   ],
   "source": [
    "print('peak value is ',stack.peak())"
   ]
  },
  {
   "cell_type": "code",
   "execution_count": 78,
   "id": "1907da6d",
   "metadata": {},
   "outputs": [
    {
     "name": "stdout",
     "output_type": "stream",
     "text": [
      "pop value is  5\n"
     ]
    }
   ],
   "source": [
    "print('pop value is ',stack.pop())"
   ]
  },
  {
   "cell_type": "code",
   "execution_count": 79,
   "id": "760c6b22",
   "metadata": {},
   "outputs": [
    {
     "name": "stdout",
     "output_type": "stream",
     "text": [
      "size 4\n"
     ]
    }
   ],
   "source": [
    "print('size',stack.size())"
   ]
  },
  {
   "cell_type": "code",
   "execution_count": 80,
   "id": "518c6bc1",
   "metadata": {},
   "outputs": [
    {
     "name": "stdout",
     "output_type": "stream",
     "text": [
      "peak 2\n"
     ]
    }
   ],
   "source": [
    "print('peak',stack.peak())"
   ]
  },
  {
   "cell_type": "markdown",
   "id": "ff173f9b",
   "metadata": {},
   "source": [
    "# >>>>>>>>>>>>>>>>>> Lab No 12 <<<<<<<<<<<<<<<<<<<"
   ]
  },
  {
   "cell_type": "markdown",
   "id": "f79b18d4",
   "metadata": {},
   "source": [
    "### INTRODUCTION:\n",
    "### A queue is a fundamental data structure in computer science that follows the First-In-First-Out (FIFO) principle. In a queue, elements are added at the rear (enqueue) and removed from the front (dequeue). This ensures that the oldest element in the queue is the first to be processed.\n"
   ]
  },
  {
   "cell_type": "markdown",
   "id": "ce78522f",
   "metadata": {},
   "source": [
    "### TYPES OF QUEUE:\n",
    "### 1.\tList Queue\n",
    "### 2.\tDeque Queue\n",
    "### 3.\tNode base Queue.\n"
   ]
  },
  {
   "cell_type": "markdown",
   "id": "b9144312",
   "metadata": {},
   "source": [
    "### 1.\tLIST QUEUE:"
   ]
  },
  {
   "cell_type": "code",
   "execution_count": 3,
   "id": "c96bd86f",
   "metadata": {},
   "outputs": [],
   "source": [
    "class Queue:\n",
    "    def __init__(self):\n",
    "        self.items=[]\n",
    "        \n",
    "    def is_empty(self):\n",
    "        return self.items is None\n",
    "    def enquee(self,item):\n",
    "        self.items.append(item)\n",
    "    def dequeue(self):\n",
    "        if  not self.is_empty():\n",
    "            self.items.pop(0)\n",
    "        else:\n",
    "            print(\"Queue is empty\")    "
   ]
  },
  {
   "cell_type": "code",
   "execution_count": 5,
   "id": "9254f031",
   "metadata": {},
   "outputs": [
    {
     "name": "stdout",
     "output_type": "stream",
     "text": [
      "Dequeue: None\n",
      "Dequeue: None\n",
      "is the queue emty? False\n"
     ]
    }
   ],
   "source": [
    "my_queue=Queue()\n",
    "\n",
    "my_queue.enquee(1)\n",
    "my_queue.enquee(2)\n",
    "my_queue.enquee(3)\n",
    "print(\"Dequeue:\",my_queue.dequeue())\n",
    "print(\"Dequeue:\",my_queue.dequeue())\n",
    "\n",
    "print(\"is the queue emty?\",my_queue.is_empty())"
   ]
  },
  {
   "cell_type": "markdown",
   "id": "29017115",
   "metadata": {},
   "source": [
    "### 2.\tDEQUE QUEUE:"
   ]
  },
  {
   "cell_type": "code",
   "execution_count": 8,
   "id": "7e6eeab7",
   "metadata": {},
   "outputs": [],
   "source": [
    "from collections  import deque\n",
    "\n",
    "class DequeQueue:\n",
    "    def __init__(self):\n",
    "        self.items=deque()\n",
    "    def is_empty(self):\n",
    "        return (self.items) == 0\n",
    "    def enqueue(self,item):\n",
    "        self.items.append(item)\n",
    "             \n",
    "    def dequeue(self):\n",
    "        if  not self.is_empty():\n",
    "            return self.items.popleft()\n",
    "        else:\n",
    "            print(\"Queue is empty.cannot dequeue.\")\n"
   ]
  },
  {
   "cell_type": "code",
   "execution_count": 10,
   "id": "e7c92e21",
   "metadata": {},
   "outputs": [
    {
     "name": "stdout",
     "output_type": "stream",
     "text": [
      "dequeue: 1\n",
      "dequeue: 2\n",
      "is the queue is empty?  False\n"
     ]
    }
   ],
   "source": [
    "my_queue=DequeQueue()\n",
    "my_queue.enqueue(1)\n",
    "my_queue.enqueue(2)\n",
    "my_queue.enqueue(3)\n",
    "\n",
    "print(\"dequeue:\",my_queue.dequeue())\n",
    "print(\"dequeue:\",my_queue.dequeue())\n",
    "print(\"is the queue is empty? \", my_queue.is_empty())"
   ]
  },
  {
   "cell_type": "markdown",
   "id": "443517f0",
   "metadata": {},
   "source": [
    "### 3.\tNODE BASE QUEUE:"
   ]
  },
  {
   "cell_type": "code",
   "execution_count": 28,
   "id": "6b39aa7b",
   "metadata": {},
   "outputs": [],
   "source": [
    "class Node:\n",
    "    def __init__(self,data):\n",
    "        self.data=data\n",
    "        self.ref=None\n",
    "        \n",
    "class NodeQueue:\n",
    "    def __init__(self):\n",
    "        self.front=None\n",
    "        self.rear=None\n",
    "        \n",
    "    def is_empty(self):\n",
    "        return self.front is None\n",
    "    \n",
    "    def enqueue(self,data):\n",
    "        new_node=Node(data)\n",
    "        if self.rear is None:\n",
    "            self.front=self.rear=new_node\n",
    "        else:\n",
    "            self.rear.next=new_node\n",
    "            self.rear=new_node\n",
    "    \n",
    "    def dequeue(self):\n",
    "        if self.is_empty():\n",
    "            print(\"Queue is empty.cannot dequeue\")\n",
    "            return None\n",
    "        else:\n",
    "            remove_data=self.front.data\n",
    "            self.front=self.front.next\n",
    "            if self.front is None:\n",
    "                self.rear=None\n",
    "            return remove_data"
   ]
  },
  {
   "cell_type": "code",
   "execution_count": 29,
   "id": "c8b8dfeb",
   "metadata": {},
   "outputs": [
    {
     "name": "stdout",
     "output_type": "stream",
     "text": [
      "dequeue: 1\n",
      "dequeue: 2\n",
      "is the queue is empty?  False\n"
     ]
    }
   ],
   "source": [
    "my_node_queue=NodeQueue()\n",
    "\n",
    "my_node_queue.enqueue(1)\n",
    "my_node_queue.enqueue(2)\n",
    "my_node_queue.enqueue(3)\n",
    "\n",
    "print(\"dequeue:\",my_node_queue.dequeue())\n",
    "print(\"dequeue:\",my_node_queue.dequeue())\n",
    "\n",
    "print(\"is the queue is empty? \", my_node_queue.is_empty())       "
   ]
  },
  {
   "cell_type": "markdown",
   "id": "26cd96b9",
   "metadata": {},
   "source": [
    "# >>>>>>>>>>>>>>>>>> Lab No 13 <<<<<<<<<<<<<<<<<<<"
   ]
  },
  {
   "cell_type": "code",
   "execution_count": null,
   "id": "5af9ce86",
   "metadata": {},
   "outputs": [],
   "source": [
    "import pandas as pd\n",
    "import numpy as np\n",
    "import matplotlib.pyplot as plt\n",
    "import math\n",
    "import seaborn as sns\n",
    "\n",
    "from sklearn.model_selection import train_test_split\n",
    "from sklearn.preprocessing import MinMaxScaler\n",
    "from sklearn.metrics import mean_squared_error\n",
    "\n",
    "import tensorflow as tf\n",
    "from tensorflow.keras.models import Sequential\n",
    "from tensorflow.keras.layers import Dense, Dropout, BatchNormalization\n",
    "\n",
    "from functools import partial"
   ]
  },
  {
   "cell_type": "code",
   "execution_count": null,
   "id": "23aaff33",
   "metadata": {},
   "outputs": [],
   "source": [
    "# READ DATA\n",
    "\n",
    "data_path = 'household_power_consumption.txt'\n",
    "\n",
    "data = pd.read_csv(data_path, sep=';',parse_dates={'data': ['Date', 'Time']},\n",
    "                   infer_datetime_format=True,\n",
    "                   na_values=['nan', '?'],\n",
    "                   index_col='data')"
   ]
  },
  {
   "cell_type": "code",
   "execution_count": null,
   "id": "8a67f2b9",
   "metadata": {},
   "outputs": [],
   "source": [
    "data_head = data.head()\n",
    "data_head"
   ]
  },
  {
   "cell_type": "code",
   "execution_count": null,
   "id": "f6b3c5cb",
   "metadata": {},
   "outputs": [],
   "source": [
    "data_tail = data.tail()\n",
    "data_tail"
   ]
  },
  {
   "cell_type": "code",
   "execution_count": null,
   "id": "ddc09d7f",
   "metadata": {},
   "outputs": [],
   "source": [
    "data.describe()"
   ]
  },
  {
   "cell_type": "code",
   "execution_count": null,
   "id": "8faeb9e3",
   "metadata": {},
   "outputs": [],
   "source": [
    "data.info()"
   ]
  },
  {
   "cell_type": "code",
   "execution_count": null,
   "id": "b2e17054",
   "metadata": {},
   "outputs": [],
   "source": [
    "data.isna().sum()"
   ]
  },
  {
   "cell_type": "code",
   "execution_count": null,
   "id": "96636a01",
   "metadata": {},
   "outputs": [],
   "source": [
    "data_clear = data.dropna()"
   ]
  },
  {
   "cell_type": "code",
   "execution_count": null,
   "id": "7e79aa59",
   "metadata": {},
   "outputs": [],
   "source": [
    "# VISUALIZATION\n",
    "\n",
    "# Scatter plot of Global_active_power\n",
    "plt.figure(figsize=(20, 5))\n",
    "plt.scatter(data_clear.index, data_clear['Global_active_power'])\n",
    "plt.show()\n",
    "\n",
    "# Global_active_power resampled over day for sum\n",
    "plt.figure(figsize=(20, 5))\n",
    "data_clear.Global_active_power.resample('D').sum().plot(title='Global_active_power resampled over day for sum')\n",
    "plt.show()\n",
    "\n",
    "# Global_active_power resampled over day for mean\n",
    "plt.figure(figsize=(20, 5))\n",
    "data_clear.Global_active_power.resample('D').median().plot(title='Global_active_power resampled over day for median')\n",
    "plt.show()\n",
    "\n",
    "# Global active power per hour\n",
    "h = data_clear.Global_active_power.resample('h').agg(['mean', 'std', 'max', 'min'])\n",
    "h.plot(subplots=True, figsize=(20, 10), title='Global active power per hour')\n",
    "plt.show()"
   ]
  },
  {
   "cell_type": "code",
   "execution_count": null,
   "id": "f6d3cf32",
   "metadata": {},
   "outputs": [],
   "source": [
    " # DATA PREPARATION\n",
    "\n",
    "# Resampling of data over 30 minutes\n",
    "data_resample = data_clear.resample('30Min').mean()\n",
    "data_resample.shape\n",
    "\n",
    "# Splitting into target variable and feathers\n",
    "X = data_resample.drop(\"Global_active_power\", axis=1)\n",
    "X = X.reset_index(drop=True)\n",
    "X.head()\n",
    "\n",
    "y = data_resample[\"Global_active_power\"].reset_index(drop=True)\n",
    "y.head()\n",
    "\n",
    "# Split data\n",
    "X_train, X_test, y_train, y_test = train_test_split(X, y, test_size=0.3, random_state=42)\n",
    "print(X_train.shape)\n",
    "print(X_test.shape)\n",
    "print(y_train.shape)\n",
    "print(y_test.shape)\n",
    "\n",
    "# Control missing values\n",
    "X_train.isna().sum()\n",
    "\n",
    "X_test.isna().sum()\n",
    "\n",
    "y_train.isna().sum()\n",
    "y_test.isna().sum()\n",
    "\n",
    "# Drop missing values\n",
    "X_train = X_train.dropna()\n",
    "\n",
    "X_test = X_test.dropna()\n",
    "\n",
    "y_train = y_train.dropna()\n",
    "\n",
    "y_test = y_test.dropna()\n"
   ]
  },
  {
   "cell_type": "code",
   "execution_count": null,
   "id": "bc485c79",
   "metadata": {},
   "outputs": [],
   "source": [
    "# NORMALIZE DATA\n",
    "\n",
    "# scaler\n",
    "scaler = MinMaxScaler(feature_range=(0, 1))\n",
    "\n",
    "# Normalize X_train\n",
    "X_train_norm = scaler.fit_transform(X_train)\n",
    "print(X_train.shape)\n",
    "\n",
    "# Normalize X_test\n",
    "X_test_norm = scaler.fit_transform(X_test)\n",
    "print(X_test.shape)"
   ]
  },
  {
   "cell_type": "code",
   "execution_count": null,
   "id": "8d8c7d5c",
   "metadata": {},
   "outputs": [],
   "source": [
    "# Evaluation and visualization of model parameters\n",
    "\n",
    "\n",
    "def learning_curves(history):\n",
    "    pd.DataFrame(history.history).plot(figsize=(20, 8))\n",
    "    plt.grid(True)\n",
    "    plt.title('Learning curves')\n",
    "    plt.gca().set_ylim(0, 1)\n",
    "    plt.show()\n",
    "def evaluation_model(history):\n",
    "    fig, (axL, axR) = plt.subplots(ncols=2, figsize=(20, 8))\n",
    "    axL.plot(history.history['loss'], label=\"loss (mse) for training\")\n",
    "    axL.plot(history.history['val_loss'], label=\"loss (mse) for validation\")\n",
    "    axL.set_title('model loss')\n",
    "    axL.set_xlabel('epoch')\n",
    "    axL.set_ylabel('loss')\n",
    "    axL.legend(loc='upper right')\n",
    "\n",
    "    axR.plot(history.history['mae'], label=\"mae for training\")\n",
    "    axR.plot(history.history['val_mae'], label=\"mae for validation\")\n",
    "    axR.set_title('model mae')\n",
    "    axR.set_xlabel('epoch')\n",
    "    axR.set_ylabel('mae')\n",
    "    axR.legend(loc='upper right')\n",
    "\n",
    "    plt.show()"
   ]
  },
  {
   "cell_type": "code",
   "execution_count": null,
   "id": "f0829002",
   "metadata": {},
   "outputs": [],
   "source": [
    "# Basic model with three fully connected layers\n",
    "\n",
    "model_1a = Sequential([\n",
    "    Dense(64, activation='sigmoid', input_shape=(6,)),\n",
    "    Dense(64, activation='sigmoid'),\n",
    "    Dense(1, activation='linear')\n",
    "])\n",
    "\n",
    "model_1a.compile(optimizer='SGD',\n",
    "                 loss='mse',\n",
    "                 metrics=['mae'])\n",
    "\n",
    "model_1a.summary()\n",
    "tf.keras.utils.plot_model(model_1a, to_file='model_1a.png')\n",
    "\n",
    "history_1a = model_1a.fit(X_train_norm, y_train,\n",
    "                          epochs=10,\n",
    "                          batch_size=128,\n",
    "                          verbose=2,\n",
    "                          validation_split=0.2)\n",
    "# Learning curves\n",
    "learning_curves(history_1a)\n",
    "\n",
    "# Evaluation model\n",
    "evaluation_model(history_1a)"
   ]
  },
  {
   "cell_type": "code",
   "execution_count": null,
   "id": "6172dda5",
   "metadata": {},
   "outputs": [],
   "source": [
    "# Basic model with three fully connected layers\n",
    "# + Increasing validation_split to 0.4\n",
    "\n",
    "model_1b = Sequential([\n",
    "    Dense(64, activation='sigmoid', input_shape=(6,)),\n",
    "    Dense(64, activation='sigmoid'),\n",
    "    Dense(1, activation='linear')\n",
    "])\n",
    "\n",
    "model_1b.compile(optimizer='SGD',\n",
    "                 loss='mse',\n",
    "                 metrics=['mae'])\n",
    "\n",
    "model_1b.summary()\n",
    "\n",
    "tf.keras.utils.plot_model(model_1b, to_file='model_1b.png')\n",
    "history_1b = model_1b.fit(X_train_norm, y_train,\n",
    "                          epochs=10,\n",
    "                          batch_size=128,\n",
    "                          verbose=2,\n",
    "                          validation_split=0.4)\n",
    "# Learning curves\n",
    "learning_curves(history_1b)\n",
    "\n",
    "# Evaluation model\n",
    "evaluation_model(history_1b)"
   ]
  },
  {
   "cell_type": "code",
   "execution_count": null,
   "id": "73e6bcc3",
   "metadata": {},
   "outputs": [],
   "source": [
    "# Basic model with three fully connected layers\n",
    "# + Increasing validation_split to 0.4\n",
    "# + Adding two additional layers\n",
    "\n",
    "model_1c = Sequential([\n",
    "    Dense(64, activation='sigmoid', input_shape=(6,)),\n",
    "    Dense(64, activation='sigmoid'),\n",
    "    Dense(64, activation='sigmoid'),\n",
    "    Dense(64, activation='sigmoid'),\n",
    "    Dense(1, activation='linear')\n",
    "])\n",
    "\n",
    "model_1c.compile(optimizer='SGD',\n",
    "                 loss='mse',\n",
    "                 metrics=['mae'])\n",
    "model_1c.summary()\n",
    "\n",
    "tf.keras.utils.plot_model(model_1c, to_file='model_1c.png')\n",
    "\n",
    "history_1c = model_1c.fit(X_train_norm, y_train,\n",
    "                          epochs=10,\n",
    "                          batch_size=128,\n",
    "                          verbose=2,\n",
    "                          validation_split=0.4)\n",
    "# Learning curves\n",
    "learning_curves(history_1c)\n",
    "\n",
    "# Evaluation model\n",
    "evaluation_model(history_1c)"
   ]
  },
  {
   "cell_type": "code",
   "execution_count": null,
   "id": "818f22bf",
   "metadata": {},
   "outputs": [],
   "source": [
    "# Basic model with three fully connected layers\n",
    "# + Increasing validation_split to 0.4\n",
    "# + Adding two additional layers\n",
    "# + Increasing the number of neurons in the hidden layers\n",
    "\n",
    "model_1d = Sequential([\n",
    "    Dense(128, activation='sigmoid', input_shape=(6,)),\n",
    "    Dense(256, activation='sigmoid'),\n",
    "    Dense(128, activation='sigmoid'),\n",
    "    Dense(64, activation='sigmoid'),\n",
    "    Dense(1, activation='linear')\n",
    "])\n",
    "\n",
    "model_1d.compile(optimizer='SGD',\n",
    "                 loss='mse',\n",
    "                 metrics=['mae'])\n",
    "model_1d.summary()\n",
    "\n",
    "tf.keras.utils.plot_model(model_1d, to_file='model_1d.png')\n",
    "\n",
    "history_1d = model_1d.fit(X_train_norm, y_train,\n",
    "                          epochs=10,\n",
    "                          batch_size=128,\n",
    "                          verbose=2,\n",
    "                          validation_split=0.4)\n",
    "# Learning curves\n",
    "learning_curves(history_1d)\n",
    "\n",
    "# Evaluation model\n",
    "evaluation_model(history_1d)"
   ]
  },
  {
   "cell_type": "code",
   "execution_count": null,
   "id": "28e47d0c",
   "metadata": {},
   "outputs": [],
   "source": [
    "# Basic model with three fully connected layers\n",
    "# + Increasing validation_split to 0.4\n",
    "# + Adding two additional layers\n",
    "# + Increasing the number of neurons in the hidden layers\n",
    "# + Changing the activation function\n",
    "\n",
    "model_1e = Sequential([\n",
    "    Dense(128, activation='relu', input_shape=(6,)),\n",
    "    Dense(256, activation='relu'),\n",
    "    Dense(128, activation='relu'),\n",
    "    Dense(64, activation='relu'),\n",
    "    Dense(1, activation='linear')\n",
    "])\n",
    "model_1e.compile(optimizer='SGD',\n",
    "                 loss='mse',\n",
    "                 metrics=['mae'])\n",
    "\n",
    "model_1e.summary()\n",
    "\n",
    "tf.keras.utils.plot_model(model_1e, to_file='model_1e.png')\n",
    "\n",
    "history_1e = model_1e.fit(X_train_norm, y_train,\n",
    "                          epochs=10,\n",
    "                          batch_size=128,\n",
    "                          verbose=2,\n",
    "                          validation_split=0.4)\n",
    "# Learning curves\n",
    "learning_curves(history_1e)\n",
    "# Evaluation model\n",
    "evaluation_model(history_1e)"
   ]
  },
  {
   "cell_type": "code",
   "execution_count": null,
   "id": "959bcc01",
   "metadata": {},
   "outputs": [],
   "source": [
    "# Basic model with three fully connected layers\n",
    "# + Increasing validation_split to 0.4\n",
    "# + Adding two additional layers\n",
    "# + Increasing the number of neurons in the hidden layers\n",
    "# + Changing the activation function\n",
    "# + Changing the optimization function\n",
    "\n",
    "model_1f = Sequential([\n",
    "    Dense(128, activation='relu', input_shape=(6,)),\n",
    "    Dense(256, activation='relu'),\n",
    "    Dense(128, activation='relu'),\n",
    "    Dense(64, activation='relu'),\n",
    "    Dense(1, activation='linear')\n",
    "])\n",
    "model_1f.compile(optimizer='Adam',\n",
    "                 loss='mse',\n",
    "                 metrics=['mae'])\n",
    "\n",
    "model_1f.summary()\n",
    "\n",
    "tf.keras.utils.plot_model(model_1f, to_file='model_1f.png')\n",
    "\n",
    "history_1f = model_1f.fit(X_train_norm, y_train,\n",
    "                          epochs=10,\n",
    "                          batch_size=128,\n",
    "                          verbose=2,\n",
    "                          validation_split=0.4)\n",
    "# Learning curves\n",
    "learning_curves(history_1f)\n",
    "# Evaluation model\n",
    "evaluation_model(history_1f)"
   ]
  },
  {
   "cell_type": "code",
   "execution_count": null,
   "id": "48c047a3",
   "metadata": {},
   "outputs": [],
   "source": [
    "# Basic model with three fully connected layers\n",
    "# + Increasing validation_split to 0.4\n",
    "# + Adding two additional layers\n",
    "# + Increasing the number of neurons in the hidden layers\n",
    "# + Changing the activation function\n",
    "# + Changing the optimization function\n",
    "# + Increasing the number of training epochs\n",
    "\n",
    "model_1g = Sequential([\n",
    "    Dense(128, activation='relu', input_shape=(6,)),\n",
    "    Dense(256, activation='relu'),\n",
    "    Dense(128, activation='relu'),\n",
    "    Dense(64, activation='relu'),\n",
    "    Dense(1, activation='linear')\n",
    "])\n",
    "model_1g.compile(optimizer='Adam',\n",
    "                 loss='mse',\n",
    "                 metrics=['mae'])\n",
    "\n",
    "model_1g.summary()\n",
    "\n",
    "tf.keras.utils.plot_model(model_1g, to_file='model_1g.png')\n",
    "\n",
    "history_1g = model_1g.fit(X_train_norm, y_train,\n",
    "                          epochs=50,\n",
    "                          batch_size=128,\n",
    "                          verbose=2,\n",
    "                          validation_split=0.4)\n",
    "# Learning curves\n",
    "learning_curves(history_1g)\n",
    "# Evaluation model\n",
    "evaluation_model(history_1g)"
   ]
  },
  {
   "cell_type": "code",
   "execution_count": null,
   "id": "71f3047a",
   "metadata": {},
   "outputs": [],
   "source": [
    "# Basic model with three fully connected layers\n",
    "# + Increasing validation_split to 0.4\n",
    "# + Adding two additional layers\n",
    "# + Increasing the number of neurons in the hidden layers\n",
    "# + Changing the activation function\n",
    "# + Changing the optimization function\n",
    "# + Increasing the number of training epochs\n",
    "# + Applying an early stopping and saving the best model\n",
    "\n",
    "model_1h = Sequential([\n",
    "    Dense(128, activation='relu', input_shape=(6,)),\n",
    "    Dense(256, activation='relu'),\n",
    "    Dense(128, activation='relu'),\n",
    "    Dense(64, activation='relu'),\n",
    "    Dense(1, activation='linear')\n",
    "])\n",
    "model_1h.compile(optimizer='Adam',\n",
    "                 loss='mse',\n",
    "                 metrics=['mae'])\n",
    "\n",
    "model_1h.summary()\n",
    "\n",
    "tf.keras.utils.plot_model(model_1h, to_file='model_1h.png')\n",
    "\n",
    "checkpoint_cb = tf.keras.callbacks.ModelCheckpoint(\"model_1h.h5\",\n",
    "                                                   save_best_only=True)\n",
    "\n",
    "early_stopping_cb = tf.keras.callbacks.EarlyStopping(patience=5,\n",
    "                                                     restore_best_weights=True)\n",
    "\n",
    "history_1h = model_1h.fit(X_train_norm, y_train,\n",
    "                          epochs=50,\n",
    "                          batch_size=128,\n",
    "                          verbose=2,\n",
    "                          validation_split=0.4,\n",
    "                          callbacks=[checkpoint_cb, early_stopping_cb])\n",
    "# Learning curves\n",
    "learning_curves(history_1h)\n",
    "\n",
    "# Evaluation model\n",
    "evaluation_model(history_1h)"
   ]
  },
  {
   "cell_type": "code",
   "execution_count": null,
   "id": "2a43a34d",
   "metadata": {},
   "outputs": [],
   "source": [
    "# Basic model with three fully connected layers\n",
    "# + Increasing validation_split to 0.4\n",
    "# + Adding two additional layers\n",
    "# + Increasing the number of neurons in the hidden layers\n",
    "# + Changing the activation function\n",
    "# + Changing the optimization function\n",
    "# + Increasing the number of training epochs\n",
    "# + Applying an early stopping and saving the best model\n",
    "# + Applying L1 and L2 regularization\n",
    "\n",
    "RegularizedDense = partial(tf.keras.layers.Dense,\n",
    "                           activation=\"relu\",\n",
    "                           kernel_initializer=\"he_normal\",\n",
    "                           kernel_regularizer=tf.keras.regularizers.l1_l2(0.01))\n",
    "model_1i = Sequential([\n",
    "    RegularizedDense(128, input_shape=(6,)),\n",
    "    RegularizedDense(256),\n",
    "    RegularizedDense(128),\n",
    "    RegularizedDense(64),\n",
    "    Dense(1, activation='linear')\n",
    "])\n",
    "\n",
    "model_1i.compile(optimizer='Adam',\n",
    "                 loss='mse',\n",
    "                 metrics=['mae'])\n",
    "\n",
    "model_1i.summary()\n",
    "tf.keras.utils.plot_model(model_1i, to_file='model_1i.png')\n",
    "\n",
    "checkpoint_cb = tf.keras.callbacks.ModelCheckpoint(\"model_1i.h5\",\n",
    "                                                   save_best_only=True)\n",
    "\n",
    "early_stopping_cb = tf.keras.callbacks.EarlyStopping(patience=3,\n",
    "                                                     restore_best_weights=True)\n",
    "\n",
    "history_1i = model_1i.fit(X_train_norm, y_train,\n",
    "                          epochs=50,\n",
    "                          batch_size=128,\n",
    "                          verbose=2,\n",
    "                          validation_split=0.4,\n",
    "                          callbacks=[checkpoint_cb, early_stopping_cb])\n",
    "# Learning curves\n",
    "learning_curves(history_1i)\n",
    "\n",
    "# Evaluation model\n",
    "evaluation_model(history_1i)"
   ]
  },
  {
   "cell_type": "code",
   "execution_count": null,
   "id": "a8dbf74b",
   "metadata": {},
   "outputs": [],
   "source": [
    "# Basic model with three fully connected layers\n",
    "# + Increasing validation_split to 0.4\n",
    "# + Adding two additional layers\n",
    "# + Increasing the number of neurons in the hidden layers\n",
    "# + Changing the activation function\n",
    "# + Changing the optimization function\n",
    "# + Increasing the number of training epochs\n",
    "# + Applying an early stopping and saving the best model\n",
    "# + Applying L1 and L2 regularization\n",
    "# + Applying Dropout\n",
    "\n",
    "RegularizedDense = partial(tf.keras.layers.Dense,\n",
    "                           activation=\"relu\",\n",
    "                           kernel_initializer=\"he_normal\",\n",
    "                           kernel_regularizer=tf.keras.regularizers.l1_l2(0.01))\n",
    "model_1j = Sequential([\n",
    "    RegularizedDense(128, input_shape=(6,)),\n",
    "    Dropout(rate=0.3),\n",
    "    RegularizedDense(256),\n",
    "    Dropout(rate=0.3),\n",
    "    RegularizedDense(128),\n",
    "    Dropout(rate=0.3),\n",
    "    RegularizedDense(64),\n",
    "    Dropout(rate=0.3),\n",
    "    Dense(1, activation='linear')\n",
    "])\n",
    "model_1j.compile(optimizer='Adam',\n",
    "                 loss='mse',\n",
    "                 metrics=['mae'])\n",
    "\n",
    "model_1j.summary()\n",
    "\n",
    "tf.keras.utils.plot_model(model_1j, to_file='model_1j.png')\n",
    "\n",
    "checkpoint_cb = tf.keras.callbacks.ModelCheckpoint(\"model_1j.h5\",\n",
    "                                                   save_best_only=True)\n",
    "\n",
    "early_stopping_cb = tf.keras.callbacks.EarlyStopping(patience=3,\n",
    "                                                     restore_best_weights=True)\n",
    "history_1j = model_1j.fit(X_train_norm, y_train,\n",
    "                          epochs=50,\n",
    "                          batch_size=128,\n",
    "                          verbose=2,\n",
    "                          validation_split=0.4,\n",
    "                          callbacks=[checkpoint_cb, early_stopping_cb])\n",
    "# Learning curves\n",
    "learning_curves(history_1j)\n",
    "\n",
    "# Evaluation model\n",
    "evaluation_model(history_1j)"
   ]
  },
  {
   "cell_type": "code",
   "execution_count": null,
   "id": "ebb25d7e",
   "metadata": {},
   "outputs": [],
   "source": [
    "# Basic model with three fully connected layers\n",
    "# + Increasing validation_split to 0.4\n",
    "# + Adding two additional layers\n",
    "# + Increasing the number of neurons in the hidden layers\n",
    "# + Changing the activation function\n",
    "# + Changing the optimization function\n",
    "# + Increasing the number of training epochs\n",
    "# + Applying an early stopping and saving the best model\n",
    "# + Applying L1 and L2 regularization\n",
    "# + Applying Dropout\n",
    "# + Applying BatchNormalization\n",
    "\n",
    "RegularizedDense = partial(tf.keras.layers.Dense,\n",
    "                           activation=\"relu\",\n",
    "                           kernel_initializer=\"he_normal\",\n",
    "                           kernel_regularizer=tf.keras.regularizers.l1_l2(0.01))\n",
    "model_1k = Sequential([\n",
    "    RegularizedDense(128, input_shape=(6,)),\n",
    "    BatchNormalization(),\n",
    "    Dropout(rate=0.3),\n",
    "\n",
    "    RegularizedDense(256),\n",
    "    BatchNormalization(),\n",
    "    Dropout(rate=0.3),\n",
    "\n",
    "    RegularizedDense(128),\n",
    "    BatchNormalization(),\n",
    "    Dropout(rate=0.3),\n",
    "\n",
    "    RegularizedDense(64),\n",
    "    BatchNormalization(),\n",
    "    Dropout(rate=0.3),\n",
    "\n",
    "    Dense(1, activation='linear')\n",
    "])\n",
    "\n",
    "model_1k.compile(optimizer='Adam',\n",
    "                 loss='mse',\n",
    "                 metrics=['mae'])\n",
    "\n",
    "model_1k.summary()\n",
    "\n",
    "tf.keras.utils.plot_model(model_1k, to_file='model_1k.png')\n",
    "\n",
    "checkpoint_cb = tf.keras.callbacks.ModelCheckpoint(\"model_1k.h5\",\n",
    "                                                   save_best_only=True)\n",
    "early_stopping_cb = tf.keras.callbacks.EarlyStopping(patience=3,\n",
    "                                                     restore_best_weights=True)\n",
    "\n",
    "history_1k = model_1k.fit(X_train_norm, y_train,\n",
    "                          epochs=50,\n",
    "                          batch_size=128,\n",
    "                          verbose=2,\n",
    "                          validation_split=0.4,\n",
    "                          callbacks=[checkpoint_cb, early_stopping_cb])\n",
    "# Learning curves\n",
    "learning_curves(history_1k)\n",
    "\n",
    "# Evaluation model\n",
    "evaluation_model(history_1k)"
   ]
  },
  {
   "cell_type": "code",
   "execution_count": null,
   "id": "006183ef",
   "metadata": {},
   "outputs": [],
   "source": [
    "# COMPARISON OF MODEL RESULTS\n",
    "\n",
    "def model_rmse(model):\n",
    "    # Predictions\n",
    "    y_preds_train = model.predict(X_train)\n",
    "    y_preds_test = model.predict(X_test)\n",
    "\n",
    "    # calculate root mean squared error\n",
    "    trainScore = math.sqrt(mean_squared_error(y_train, y_preds_train))\n",
    "    # print('Train Score: %.2f RMSE' % (trainScore))\n",
    "\n",
    "    testScore = math.sqrt(mean_squared_error(y_test, y_preds_test))\n",
    "    # print('Test Score: %.2f RMSE' % (testScore))\n",
    "    return trainScore, testScore"
   ]
  },
  {
   "cell_type": "code",
   "execution_count": null,
   "id": "6ecc31ae",
   "metadata": {},
   "outputs": [],
   "source": [
    "# 0 - Basic model with three fully connected layers\n",
    "# 1 - Increasing validation_split to 0.4\n",
    "# 2 - Adding two additional layers\n",
    "# 3 - Increasing the number of neurons in the hidden layers\n",
    "# 4 - Changing the activation function\n",
    "# 5 - Changing the optimization function\n",
    "# 6 - Increasing the number of training epochs\n",
    "# 7 - Applying an early stopping and saving the best model\n",
    "# 8 - Applying L1 and L2 regularization\n",
    "# 9 - Applying Dropout\n",
    "# 10 - Applying BatchNormalization\n",
    "\n",
    "\n",
    "# Evaluate the model on the test set\n",
    "evaluate_1a = model_1a.evaluate(X_test, y_test, verbose=2)\n",
    "evaluate_1b = model_1b.evaluate(X_test, y_test, verbose=2)\n",
    "evaluate_1c = model_1c.evaluate(X_test, y_test, verbose=2)\n",
    "evaluate_1d = model_1d.evaluate(X_test, y_test, verbose=2)\n",
    "evaluate_1e = model_1e.evaluate(X_test, y_test, verbose=2)\n",
    "evaluate_1f = model_1f.evaluate(X_test, y_test, verbose=2)\n",
    "evaluate_1g = model_1g.evaluate(X_test, y_test, verbose=2)\n",
    "evaluate_1h = model_1h.evaluate(X_test, y_test, verbose=2)\n",
    "evaluate_1i = model_1i.evaluate(X_test, y_test, verbose=2)\n",
    "evaluate_1j = model_1j.evaluate(X_test, y_test, verbose=2)\n",
    "evaluate_1k = model_1k.evaluate(X_test, y_test, verbose=2)\n",
    "\n",
    "model_results = [[\"model_1a\", \"Basic model with three fully connected layers\", model_rmse(model_1a)[0], model_rmse(model_1a)[1], evaluate_1a[0], evaluate_1a[1]],\n",
    "                 [\"model_1b\",  \"Increasing validation_split to 0.4\", model_rmse(model_1b)[0], model_rmse(model_1b)[1], evaluate_1b[0], evaluate_1b[1]],\n",
    "                 [\"model_1c\",  \"Adding two additional layers\", model_rmse(model_1c)[0], model_rmse(model_1c)[1], evaluate_1c[0], evaluate_1c[1]],\n",
    "                 [\"model_1d\",  \"Increasing the number of neurons in the hidden layers\", model_rmse(model_1d)[0], model_rmse(model_1d)[1], evaluate_1d[0], evaluate_1d[1]],\n",
    "                 [\"model_1e\",  \"Changing the activation function\", model_rmse(model_1e)[0], model_rmse(model_1e)[1], evaluate_1e[0], evaluate_1e[1]],\n",
    "                 [\"model_1f\",  \"Changing the optimization function\", model_rmse(model_1f)[0], model_rmse(model_1f)[1], evaluate_1f[0], evaluate_1f[1]],\n",
    "                 [\"model_1g\",  \"Increasing the number of training epochs\", model_rmse(model_1g)[0], model_rmse(model_1g)[1], evaluate_1g[0], evaluate_1g[1]],\n",
    "                 [\"model_1h\",  \"Applying an early stopping and saving the best model\", model_rmse(model_1h)[0], model_rmse(model_1h)[1], evaluate_1h[0], evaluate_1h[1]],\n",
    "                 [\"model_1i\",  \"Applying L1 and L2 regularization\", model_rmse(model_1i)[0], model_rmse(model_1i)[1], evaluate_1i[0], evaluate_1i[1]],\n",
    "                 [\"model_1j\",  \"Applying Dropout\", model_rmse(model_1j)[0], model_rmse(model_1j)[1], evaluate_1j[0], evaluate_1j[1]],\n",
    "                 [\"model_1k\",  \"Applying BatchNormalization\", model_rmse(model_1k)[0], model_rmse(model_1k)[1], evaluate_1k[0], evaluate_1k[1]]]\n",
    "\n",
    "all_results = pd.DataFrame(model_results, columns=[\"model\", \"Improvement\", \"Train Score RMSE\", \"Test score RMSE\", \"Loss\", \"MAE\"])\n",
    "\n",
    "fig, ax = plt.subplots(ncols=2, figsize=(20, 8))\n",
    "all_results[[\"Train Score RMSE\", \"Test score RMSE\", \"MAE\"]].plot(ax=ax[0], kind='bar')\n",
    "all_results[[\"Loss\"]].plot(ax=ax[1], kind='bar')\n",
    "plt.show()"
   ]
  },
  {
   "cell_type": "code",
   "execution_count": null,
   "id": "ba562c1f",
   "metadata": {},
   "outputs": [],
   "source": []
  }
 ],
 "metadata": {
  "kernelspec": {
   "display_name": "Python 3 (ipykernel)",
   "language": "python",
   "name": "python3"
  },
  "language_info": {
   "codemirror_mode": {
    "name": "ipython",
    "version": 3
   },
   "file_extension": ".py",
   "mimetype": "text/x-python",
   "name": "python",
   "nbconvert_exporter": "python",
   "pygments_lexer": "ipython3",
   "version": "3.11.5"
  }
 },
 "nbformat": 4,
 "nbformat_minor": 5
}
